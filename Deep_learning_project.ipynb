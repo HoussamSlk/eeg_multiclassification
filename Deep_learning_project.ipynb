{
  "nbformat": 4,
  "nbformat_minor": 0,
  "metadata": {
    "colab": {
      "name": "Deep learning project.ipynb",
      "provenance": [],
      "collapsed_sections": [],
      "include_colab_link": true
    },
    "kernelspec": {
      "name": "python3",
      "display_name": "Python 3"
    }
  },
  "cells": [
    {
      "cell_type": "markdown",
      "metadata": {
        "id": "view-in-github",
        "colab_type": "text"
      },
      "source": [
        "<a href=\"https://colab.research.google.com/github/HoussamSlk/eeg_multiclassification/blob/master/Deep_learning_project.ipynb\" target=\"_parent\"><img src=\"https://colab.research.google.com/assets/colab-badge.svg\" alt=\"Open In Colab\"/></a>"
      ]
    },
    {
      "cell_type": "code",
      "metadata": {
        "id": "sivYdFkNNo44",
        "colab_type": "code",
        "colab": {}
      },
      "source": [
        "\n",
        "# uncomment next line if code gives error\n",
        "#!pip install -U -q PyDrive\n",
        "\n",
        "from pydrive.auth import GoogleAuth\n",
        "from pydrive.drive import GoogleDrive\n",
        "from google.colab import auth\n",
        "from oauth2client.client import GoogleCredentials\n",
        "# Authenticate and create the PyDrive client.\n",
        "auth.authenticate_user()\n",
        "gauth = GoogleAuth()\n",
        "gauth.credentials = GoogleCredentials.get_application_default()\n",
        "drive = GoogleDrive(gauth)"
      ],
      "execution_count": 0,
      "outputs": []
    },
    {
      "cell_type": "code",
      "metadata": {
        "id": "1MDvQXsDMwt_",
        "colab_type": "code",
        "colab": {
          "base_uri": "https://localhost:8080/",
          "height": 34
        },
        "outputId": "eea60c1a-ce3c-4b69-d5b9-4c7f62ced88f"
      },
      "source": [
        "import pandas\n",
        "from keras.models import Sequential\n",
        "from keras.layers import Dense\n",
        "from keras.wrappers.scikit_learn import KerasClassifier\n",
        "from keras.utils import np_utils\n",
        "from sklearn.model_selection import cross_val_score\n",
        "from sklearn.model_selection import KFold\n",
        "from sklearn.preprocessing import LabelEncoder\n",
        "from sklearn.pipeline import Pipeline"
      ],
      "execution_count": 2,
      "outputs": [
        {
          "output_type": "stream",
          "text": [
            "Using TensorFlow backend.\n"
          ],
          "name": "stderr"
        }
      ]
    },
    {
      "cell_type": "code",
      "metadata": {
        "id": "FO1iXV0qRXI_",
        "colab_type": "code",
        "colab": {}
      },
      "source": [
        "def fluffer (link_to_file, filename):\n",
        "  fluff, id = link_to_file.split('=')\n",
        "  downloaded = drive.CreateFile({'id':id}) \n",
        "  downloaded.GetContentFile(filename)"
      ],
      "execution_count": 0,
      "outputs": []
    },
    {
      "cell_type": "code",
      "metadata": {
        "id": "f3qcHYb5R4BK",
        "colab_type": "code",
        "colab": {}
      },
      "source": [
        "links = [\"https://drive.google.com/open?id=1RH6K9MXlxdK2F_J8ywExsdDFS-lWQXyT\",\n",
        "         \"https://drive.google.com/open?id=159_libZKGEf8bbNnabWWmHIyj6CDFhv3\",\n",
        "         \"https://drive.google.com/open?id=198kTpSVtZyBDbW840oqMtcOHpD85Am_t\",\n",
        "         \"https://drive.google.com/open?id=15ltkmQg4QSoc90H0y46U1pBVREBHPjoo\"]\n",
        "\n",
        "filenames = [\"Data_Raw_signals.pkl\", \"Data_Spectrograms.pkl\",\n",
        "             \"Test_Raw_signals_no_labels.pkl\",\n",
        "             \"Test_Spectrograms_no_labels.pkl\"]\n",
        "\n",
        "fluffer(links[0], filenames[0])\n",
        "fluffer(links[1], filenames[1])"
      ],
      "execution_count": 0,
      "outputs": []
    },
    {
      "cell_type": "code",
      "metadata": {
        "id": "r2tDaUN9TMfB",
        "colab_type": "code",
        "colab": {
          "base_uri": "https://localhost:8080/",
          "height": 554
        },
        "outputId": "a9cfd8ff-50c1-473a-ccf3-bd0bae30c447"
      },
      "source": [
        "unpickled_df = pandas.read_pickle(\"Data_Raw_signals.pkl\")\n",
        "unpickled_df"
      ],
      "execution_count": 7,
      "outputs": [
        {
          "output_type": "execute_result",
          "data": {
            "text/plain": [
              "[array([[[-2.17908808e+01, -1.88610145e+01, -1.81285479e+01, ...,\n",
              "           1.00714155e+01,  1.70298480e+01,  1.81285479e+01],\n",
              "         [-1.64804981e+00, -2.74674968e+00, -2.74674968e+00, ...,\n",
              "           1.64804981e+00,  3.11298297e+00,  9.15583227e-01]],\n",
              " \n",
              "        [[ 1.44662150e+01,  1.30012818e+01,  1.04376488e+01, ...,\n",
              "          -1.30012818e+01, -1.70298480e+01, -1.88610145e+01],\n",
              "         [ 2.01428310e+00,  4.94414942e+00,  2.74674968e+00, ...,\n",
              "          -6.04284930e+00, -6.77531588e+00,  2.01428310e+00]],\n",
              " \n",
              "        [[-1.95934810e+01, -1.48324483e+01, -9.33894891e+00, ...,\n",
              "          -2.50869804e+01, -1.70298480e+01, -2.25233474e+01],\n",
              "         [ 2.38051639e+00,  9.15583227e-01, -1.28181652e+00, ...,\n",
              "           2.01428310e+00, -3.47921626e+00, -1.64804981e+00]],\n",
              " \n",
              "        ...,\n",
              " \n",
              "        [[-1.58395898e+02, -1.71214063e+02, -1.51803699e+02, ...,\n",
              "           9.33894891e+00, -3.11298297e+00, -5.49349936e-01],\n",
              "         [ 3.23567112e+02,  3.08917781e+02,  3.04522981e+02, ...,\n",
              "          -4.21168284e+00, -1.28181652e+00, -5.49349936e-01]],\n",
              " \n",
              "        [[ 6.04284930e+00,  4.21168284e+00,  3.11298297e+00, ...,\n",
              "           1.55649149e+01,  1.73960813e+01,  2.10584142e+01],\n",
              "         [-3.11298297e+00, -2.01428310e+00, -1.83116645e-01, ...,\n",
              "          -7.87401575e+00, -1.11701154e+01, -1.26350485e+01]],\n",
              " \n",
              "        [[ 1.95934810e+01,  1.51986816e+01,  1.88610145e+01, ...,\n",
              "          -1.22688152e+01, -1.19025819e+01, -1.11701154e+01],\n",
              "         [-9.33894891e+00, -8.97271562e+00, -1.11701154e+01, ...,\n",
              "          -9.70518220e+00, -7.50778246e+00, -8.24024904e+00]]]),\n",
              " array([1, 1, 1, ..., 5, 1, 1], dtype=int32)]"
            ]
          },
          "metadata": {
            "tags": []
          },
          "execution_count": 7
        }
      ]
    }
  ]
}