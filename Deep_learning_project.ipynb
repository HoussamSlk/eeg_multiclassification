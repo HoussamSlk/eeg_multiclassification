{
  "nbformat": 4,
  "nbformat_minor": 0,
  "metadata": {
    "colab": {
      "name": "Deep learning project.ipynb",
      "provenance": [],
      "collapsed_sections": [],
      "include_colab_link": true
    },
    "kernelspec": {
      "name": "python3",
      "display_name": "Python 3"
    }
  },
  "cells": [
    {
      "cell_type": "markdown",
      "metadata": {
        "id": "view-in-github",
        "colab_type": "text"
      },
      "source": [
        "<a href=\"https://colab.research.google.com/github/HoussamSlk/eeg_multiclassification/blob/master/Deep_learning_project.ipynb\" target=\"_parent\"><img src=\"https://colab.research.google.com/assets/colab-badge.svg\" alt=\"Open In Colab\"/></a>"
      ]
    },
    {
      "cell_type": "code",
      "metadata": {
        "id": "sivYdFkNNo44",
        "colab_type": "code",
        "colab": {}
      },
      "source": [
        "\n",
        "# uncomment next line if code gives error\n",
        "#!pip install -U -q PyDrive\n",
        "\n",
        "from pydrive.auth import GoogleAuth\n",
        "from pydrive.drive import GoogleDrive\n",
        "from google.colab import auth\n",
        "from oauth2client.client import GoogleCredentials\n",
        "# Authenticate and create the PyDrive client.\n",
        "auth.authenticate_user()\n",
        "gauth = GoogleAuth()\n",
        "gauth.credentials = GoogleCredentials.get_application_default()\n",
        "drive = GoogleDrive(gauth)"
      ],
      "execution_count": 0,
      "outputs": []
    },
    {
      "cell_type": "code",
      "metadata": {
        "id": "1MDvQXsDMwt_",
        "colab_type": "code",
        "colab": {
          "base_uri": "https://localhost:8080/",
          "height": 34
        },
        "outputId": "eea60c1a-ce3c-4b69-d5b9-4c7f62ced88f"
      },
      "source": [
        "import pandas\n",
        "from keras.models import Sequential\n",
        "from keras.layers import Dense\n",
        "from keras.wrappers.scikit_learn import KerasClassifier\n",
        "from keras.utils import np_utils\n",
        "from sklearn.model_selection import cross_val_score\n",
        "from sklearn.model_selection import KFold\n",
        "from sklearn.preprocessing import LabelEncoder\n",
        "from sklearn.pipeline import Pipeline"
      ],
      "execution_count": 2,
      "outputs": [
        {
          "output_type": "stream",
          "text": [
            "Using TensorFlow backend.\n"
          ],
          "name": "stderr"
        }
      ]
    },
    {
      "cell_type": "code",
      "metadata": {
        "id": "FO1iXV0qRXI_",
        "colab_type": "code",
        "colab": {}
      },
      "source": [
        "def fluffer (link_to_file, filename):\n",
        "  fluff, id = link_to_file.split('=')\n",
        "  downloaded = drive.CreateFile({'id':id}) \n",
        "  downloaded.GetContentFile(filename)"
      ],
      "execution_count": 0,
      "outputs": []
    },
    {
      "cell_type": "code",
      "metadata": {
        "id": "f3qcHYb5R4BK",
        "colab_type": "code",
        "colab": {}
      },
      "source": [
        "links = [\"https://drive.google.com/open?id=1RH6K9MXlxdK2F_J8ywExsdDFS-lWQXyT\",\n",
        "         \"https://drive.google.com/open?id=159_libZKGEf8bbNnabWWmHIyj6CDFhv3\",\n",
        "         \"https://drive.google.com/open?id=198kTpSVtZyBDbW840oqMtcOHpD85Am_t\",\n",
        "         \"https://drive.google.com/open?id=15ltkmQg4QSoc90H0y46U1pBVREBHPjoo\"]\n",
        "\n",
        "filenames = [\"Data_Raw_signals.pkl\", \"Data_Spectrograms.pkl\",\n",
        "             \"Test_Raw_signals_no_labels.pkl\",\n",
        "             \"Test_Spectrograms_no_labels.pkl\"]\n",
        "\n",
        "fluffer(links[0], filenames[0])\n",
        "fluffer(links[1], filenames[1])"
      ],
      "execution_count": 0,
      "outputs": []
    },
    {
      "cell_type": "code",
      "metadata": {
        "id": "r2tDaUN9TMfB",
        "colab_type": "code",
        "colab": {
          "base_uri": "https://localhost:8080/",
          "height": 34
        },
        "outputId": "7b402585-c72c-4b95-fb86-9c8251b4ff99"
      },
      "source": [
        "raw_df = pandas.read_pickle(\"Data_Raw_signals.pkl\")\n",
        "raw_df[1]"
      ],
      "execution_count": 21,
      "outputs": [
        {
          "output_type": "execute_result",
          "data": {
            "text/plain": [
              "array([1, 1, 1, ..., 5, 1, 1], dtype=int32)"
            ]
          },
          "metadata": {
            "tags": []
          },
          "execution_count": 21
        }
      ]
    }
  ]
}