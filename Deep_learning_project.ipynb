{
  "nbformat": 4,
  "nbformat_minor": 0,
  "metadata": {
    "colab": {
      "name": "Deep learning project.ipynb",
      "provenance": [],
      "collapsed_sections": [],
      "include_colab_link": true
    },
    "kernelspec": {
      "name": "python3",
      "display_name": "Python 3"
    }
  },
  "cells": [
    {
      "cell_type": "markdown",
      "metadata": {
        "id": "view-in-github",
        "colab_type": "text"
      },
      "source": [
        "<a href=\"https://colab.research.google.com/github/HoussamSlk/eeg_multiclassification/blob/master/Deep_learning_project.ipynb\" target=\"_parent\"><img src=\"https://colab.research.google.com/assets/colab-badge.svg\" alt=\"Open In Colab\"/></a>"
      ]
    },
    {
      "cell_type": "code",
      "metadata": {
        "id": "sivYdFkNNo44",
        "colab_type": "code",
        "colab": {}
      },
      "source": [
        "\n",
        "# uncomment next line if code gives error\n",
        "#!pip install -U -q PyDrive\n",
        "\n",
        "from pydrive.auth import GoogleAuth\n",
        "from pydrive.drive import GoogleDrive\n",
        "from google.colab import auth\n",
        "from oauth2client.client import GoogleCredentials\n",
        "# Authenticate and create the PyDrive client.\n",
        "auth.authenticate_user()\n",
        "gauth = GoogleAuth()\n",
        "gauth.credentials = GoogleCredentials.get_application_default()\n",
        "drive = GoogleDrive(gauth)"
      ],
      "execution_count": 0,
      "outputs": []
    },
    {
      "cell_type": "code",
      "metadata": {
        "id": "1MDvQXsDMwt_",
        "colab_type": "code",
        "colab": {
          "base_uri": "https://localhost:8080/",
          "height": 79
        },
        "outputId": "50d5e392-dcfc-4ac0-c43d-edf6a1e2d515"
      },
      "source": [
        "import pandas\n",
        "from keras.models import Sequential\n",
        "from keras.layers import Dense\n",
        "from keras.wrappers.scikit_learn import KerasClassifier\n",
        "from keras.utils import np_utils\n",
        "from sklearn.model_selection import cross_val_score\n",
        "from sklearn.model_selection import KFold\n",
        "from sklearn.preprocessing import LabelEncoder\n",
        "from sklearn.pipeline import Pipeline"
      ],
      "execution_count": 2,
      "outputs": [
        {
          "output_type": "stream",
          "text": [
            "Using TensorFlow backend.\n"
          ],
          "name": "stderr"
        },
        {
          "output_type": "display_data",
          "data": {
            "text/html": [
              "<p style=\"color: red;\">\n",
              "The default version of TensorFlow in Colab will soon switch to TensorFlow 2.x.<br>\n",
              "We recommend you <a href=\"https://www.tensorflow.org/guide/migrate\" target=\"_blank\">upgrade</a> now \n",
              "or ensure your notebook will continue to use TensorFlow 1.x via the <code>%tensorflow_version 1.x</code> magic:\n",
              "<a href=\"https://colab.research.google.com/notebooks/tensorflow_version.ipynb\" target=\"_blank\">more info</a>.</p>\n"
            ],
            "text/plain": [
              "<IPython.core.display.HTML object>"
            ]
          },
          "metadata": {
            "tags": []
          }
        }
      ]
    },
    {
      "cell_type": "code",
      "metadata": {
        "id": "FO1iXV0qRXI_",
        "colab_type": "code",
        "colab": {}
      },
      "source": [
        "def fluffer (link_to_file, filename):\n",
        "  fluff, id = link_to_file.split('=')\n",
        "  downloaded = drive.CreateFile({'id':id}) \n",
        "  downloaded.GetContentFile(filename)"
      ],
      "execution_count": 0,
      "outputs": []
    },
    {
      "cell_type": "code",
      "metadata": {
        "id": "f3qcHYb5R4BK",
        "colab_type": "code",
        "colab": {}
      },
      "source": [
        "links = [\"https://drive.google.com/open?id=1RH6K9MXlxdK2F_J8ywExsdDFS-lWQXyT\",\n",
        "         \"https://drive.google.com/open?id=159_libZKGEf8bbNnabWWmHIyj6CDFhv3\",\n",
        "         \"https://drive.google.com/open?id=198kTpSVtZyBDbW840oqMtcOHpD85Am_t\",\n",
        "         \"https://drive.google.com/open?id=15ltkmQg4QSoc90H0y46U1pBVREBHPjoo\"]\n",
        "\n",
        "filenames = [\"Data_Raw_signals.pkl\", \"Data_Spectrograms.pkl\",\n",
        "             \"Test_Raw_signals_no_labels.pkl\",\n",
        "             \"Test_Spectrograms_no_labels.pkl\"]\n",
        "\n",
        "fluffer(links[0], filenames[0])\n",
        "fluffer(links[1], filenames[1])"
      ],
      "execution_count": 0,
      "outputs": []
    },
    {
      "cell_type": "code",
      "metadata": {
        "id": "r2tDaUN9TMfB",
        "colab_type": "code",
        "colab": {}
      },
      "source": [
        "raw_df = pandas.read_pickle(\"Data_Raw_signals.pkl\")\n",
        "spect_df = pandas.read_pickle(\"Data_Spectrograms.pkl\")"
      ],
      "execution_count": 0,
      "outputs": []
    },
    {
      "cell_type": "code",
      "metadata": {
        "id": "PohdXbKYsnN5",
        "colab_type": "code",
        "colab": {
          "base_uri": "https://localhost:8080/",
          "height": 151
        },
        "outputId": "a37bb22f-04f8-480c-e035-4d516334da33"
      },
      "source": [
        "#15375\n",
        "raw_df[1][:15375] #array of all labels \n",
        "raw_df[0][:15375] #array of all raw data\n",
        "spect_df[1][:15375] #array of all spec labels\n",
        "spect_df[0][:15375] #array of all raw data\n",
        "#spect_df[0][0][0][0]\n",
        "#raw_df[0][0][0][0]\n",
        "#raw_train\n",
        "#raw_test\n",
        "#spect_train\n",
        "#spect_test\n",
        "from keras.utils import to_categorical\n",
        "all_labels = raw_df[1][:15375]\n",
        "all_labels = to_categorical(all_labels)\n"
      ],
      "execution_count": 7,
      "outputs": [
        {
          "output_type": "stream",
          "text": [
            "[1 1 1 ... 5 1 1]\n",
            "[[0. 1. 0. 0. 0. 0.]\n",
            " [0. 1. 0. 0. 0. 0.]\n",
            " [0. 1. 0. 0. 0. 0.]\n",
            " ...\n",
            " [0. 0. 0. 0. 0. 1.]\n",
            " [0. 1. 0. 0. 0. 0.]\n",
            " [0. 1. 0. 0. 0. 0.]]\n"
          ],
          "name": "stdout"
        }
      ]
    },
    {
      "cell_type": "code",
      "metadata": {
        "id": "fXMOhMF99tMR",
        "colab_type": "code",
        "colab": {}
      },
      "source": [
        "x = raw_df[0][:15375] #row data\n",
        "y = all_labels #labels\n",
        "from sklearn.model_selection import train_test_split\n",
        "x_train , x_test, y_train , y_test = train_test_split(x,y,test_size=0.2)"
      ],
      "execution_count": 0,
      "outputs": []
    }
  ]
}